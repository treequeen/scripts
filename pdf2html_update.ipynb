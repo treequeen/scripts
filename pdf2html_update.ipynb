{
 "cells": [
  {
   "cell_type": "code",
   "execution_count": null,
   "metadata": {},
   "outputs": [],
   "source": [
    "#if first time, first download tesseract to use\n",
    "#acrobat > export pdf > image > tiff > check box for \"export all images\" > settings (gear icon) > under convert: select grayscale, 300 dpi\n",
    "#place the tiff images in a folder where this code file is saved\n",
    "\n",
    "from PIL import Image\n",
    "import pytesseract\n",
    "import glob\n",
    "import warnings\n",
    "warnings.filterwarnings('ignore')\n",
    "import re\n",
    "\n",
    "tifs = glob.glob('glossary/*.tiff') #[name of folder]/\n",
    "tifs = sorted(tifs)\n",
    "tifs"
   ]
  },
  {
   "cell_type": "code",
   "execution_count": null,
   "metadata": {},
   "outputs": [],
   "source": [
    "language = 'eng'\n",
    "full = ''\n",
    "for x in tifs:\n",
    "    img = Image.open(x)\n",
    "    img.load()\n",
    "    text = pytesseract.image_to_string(img)\n",
    "    full = full + text\n",
    "    print('Page', tifs.index(x), 'of', len(tifs), 'DONE')"
   ]
  },
  {
   "cell_type": "code",
   "execution_count": 5,
   "metadata": {},
   "outputs": [],
   "source": [
    "with open('opencity_full.html', 'x', encoding='utf-16') as file:\n",
    "    file.write(full)"
   ]
  },
  {
   "cell_type": "code",
   "execution_count": null,
   "metadata": {},
   "outputs": [],
   "source": [
    "#then upload to calibre\n",
    "#convert zip to epub\n",
    "#flatten file, remove page breaks"
   ]
  }
 ],
 "metadata": {
  "kernelspec": {
   "display_name": "Python 3",
   "language": "python",
   "name": "python3"
  },
  "language_info": {
   "codemirror_mode": {
    "name": "ipython",
    "version": 3
   },
   "file_extension": ".py",
   "mimetype": "text/x-python",
   "name": "python",
   "nbconvert_exporter": "python",
   "pygments_lexer": "ipython3",
   "version": "3.12.0"
  }
 },
 "nbformat": 4,
 "nbformat_minor": 2
}
