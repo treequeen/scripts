{
 "cells": [
  {
   "cell_type": "code",
   "execution_count": 4,
   "id": "bf432432",
   "metadata": {},
   "outputs": [],
   "source": [
    "import geopandas as gpd\n",
    "from shapely.geometry import Polygon, LineString, Point"
   ]
  },
  {
   "cell_type": "code",
   "execution_count": null,
   "id": "4be03b1a",
   "metadata": {},
   "outputs": [],
   "source": [
    "ma = gpd.read_file()\n",
    "\n",
    "#ma[\"centroid'] = gdf.centroid"
   ]
  }
 ],
 "metadata": {
  "kernelspec": {
   "display_name": "Python 3",
   "language": "python",
   "name": "python3"
  },
  "language_info": {
   "codemirror_mode": {
    "name": "ipython",
    "version": 3
   },
   "file_extension": ".py",
   "mimetype": "text/x-python",
   "name": "python",
   "nbconvert_exporter": "python",
   "pygments_lexer": "ipython3",
   "version": "3.13.5"
  }
 },
 "nbformat": 4,
 "nbformat_minor": 5
}
