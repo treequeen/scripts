{
 "cells": [
  {
   "cell_type": "code",
   "execution_count": 1,
   "id": "bf432432",
   "metadata": {},
   "outputs": [],
   "source": [
    "import geopandas as gpd\n",
    "from shapely.geometry import Polygon, LineString, Point"
   ]
  },
  {
   "cell_type": "code",
   "execution_count": null,
   "id": "4be03b1a",
   "metadata": {},
   "outputs": [
    {
     "name": "stderr",
     "output_type": "stream",
     "text": [
      "/var/folders/fl/pm38qv655mx7b5q13thcsl040000gq/T/ipykernel_37765/3948538881.py:3: UserWarning: Geometry is in a geographic CRS. Results from 'centroid' are likely incorrect. Use 'GeoSeries.to_crs()' to re-project geometries to a projected CRS before this operation.\n",
      "\n",
      "  ma['centroid'] = ma.centroid\n",
      "/var/folders/fl/pm38qv655mx7b5q13thcsl040000gq/T/ipykernel_37765/3948538881.py:4: UserWarning: Geometry is in a geographic CRS. Results from 'centroid' are likely incorrect. Use 'GeoSeries.to_crs()' to re-project geometries to a projected CRS before this operation.\n",
      "\n",
      "  ma['lat'] = ma.centroid.y\n",
      "/var/folders/fl/pm38qv655mx7b5q13thcsl040000gq/T/ipykernel_37765/3948538881.py:5: UserWarning: Geometry is in a geographic CRS. Results from 'centroid' are likely incorrect. Use 'GeoSeries.to_crs()' to re-project geometries to a projected CRS before this operation.\n",
      "\n",
      "  ma['lon'] = ma.centroid.x\n"
     ]
    },
    {
     "ename": "TypeError",
     "evalue": "'method' object is not subscriptable",
     "output_type": "error",
     "traceback": [
      "\u001b[31m---------------------------------------------------------------------------\u001b[39m",
      "\u001b[31mTypeError\u001b[39m                                 Traceback (most recent call last)",
      "\u001b[36mCell\u001b[39m\u001b[36m \u001b[39m\u001b[32mIn[19]\u001b[39m\u001b[32m, line 6\u001b[39m\n\u001b[32m      4\u001b[39m ma[\u001b[33m'\u001b[39m\u001b[33mlat\u001b[39m\u001b[33m'\u001b[39m] = ma.centroid.y\n\u001b[32m      5\u001b[39m ma[\u001b[33m'\u001b[39m\u001b[33mlon\u001b[39m\u001b[33m'\u001b[39m] = ma.centroid.x\n\u001b[32m----> \u001b[39m\u001b[32m6\u001b[39m \u001b[43mma\u001b[49m\u001b[43m.\u001b[49m\u001b[43mdrop\u001b[49m\u001b[43m[\u001b[49m\u001b[33;43m'\u001b[39;49m\u001b[33;43mgeometry\u001b[39;49m\u001b[33;43m'\u001b[39;49m\u001b[43m]\u001b[49m\n\u001b[32m      7\u001b[39m ma = ma.set_geometry[\u001b[33m'\u001b[39m\u001b[33mcentroid\u001b[39m\u001b[33m'\u001b[39m]\n\u001b[32m      8\u001b[39m ma.geometry\n",
      "\u001b[31mTypeError\u001b[39m: 'method' object is not subscriptable"
     ]
    }
   ],
   "source": [
    "ma = gpd.read_file('mass-municipalities.geojson')\n",
    "\n",
    "ma['centroid'] = ma.centroid\n",
    "ma['lat'] = ma.centroid.y\n",
    "ma['lon'] = ma.centroid.x\n",
    "ma = ma.set_geometry['centroid']\n",
    "ma.geometry"
   ]
  },
  {
   "cell_type": "code",
   "execution_count": 12,
   "id": "3de82462",
   "metadata": {},
   "outputs": [
    {
     "ename": "ValueError",
     "evalue": "GeoDataFrame contains multiple geometry columns but GeoDataFrame.to_file supports only a single geometry column. Use a GeoDataFrame.to_parquet or GeoDataFrame.to_feather, drop additional geometry columns or convert them to a supported format like a well-known text (WKT) using `GeoSeries.to_wkt()`.",
     "output_type": "error",
     "traceback": [
      "\u001b[31m---------------------------------------------------------------------------\u001b[39m",
      "\u001b[31mValueError\u001b[39m                                Traceback (most recent call last)",
      "\u001b[36mCell\u001b[39m\u001b[36m \u001b[39m\u001b[32mIn[12]\u001b[39m\u001b[32m, line 1\u001b[39m\n\u001b[32m----> \u001b[39m\u001b[32m1\u001b[39m \u001b[43mma\u001b[49m\u001b[43m.\u001b[49m\u001b[43mto_file\u001b[49m\u001b[43m(\u001b[49m\u001b[33;43m'\u001b[39;49m\u001b[33;43mma_munic_centroids.geojson\u001b[39;49m\u001b[33;43m'\u001b[39;49m\u001b[43m,\u001b[49m\u001b[43m \u001b[49m\u001b[43mdriver\u001b[49m\u001b[43m=\u001b[49m\u001b[33;43m'\u001b[39;49m\u001b[33;43mGeoJSON\u001b[39;49m\u001b[33;43m'\u001b[39;49m\u001b[43m)\u001b[49m\n",
      "\u001b[36mFile \u001b[39m\u001b[32m~/Library/Python/3.13/lib/python/site-packages/geopandas/geodataframe.py:1651\u001b[39m, in \u001b[36mGeoDataFrame.to_file\u001b[39m\u001b[34m(self, filename, driver, schema, index, **kwargs)\u001b[39m\n\u001b[32m   1556\u001b[39m \u001b[38;5;250m\u001b[39m\u001b[33;03m\"\"\"Write the ``GeoDataFrame`` to a file.\u001b[39;00m\n\u001b[32m   1557\u001b[39m \n\u001b[32m   1558\u001b[39m \u001b[33;03mBy default, an ESRI shapefile is written, but any OGR data source\u001b[39;00m\n\u001b[32m   (...)\u001b[39m\u001b[32m   1647\u001b[39m \n\u001b[32m   1648\u001b[39m \u001b[33;03m\"\"\"\u001b[39;00m\n\u001b[32m   1649\u001b[39m \u001b[38;5;28;01mfrom\u001b[39;00m\u001b[38;5;250m \u001b[39m\u001b[34;01mgeopandas\u001b[39;00m\u001b[34;01m.\u001b[39;00m\u001b[34;01mio\u001b[39;00m\u001b[34;01m.\u001b[39;00m\u001b[34;01mfile\u001b[39;00m\u001b[38;5;250m \u001b[39m\u001b[38;5;28;01mimport\u001b[39;00m _to_file\n\u001b[32m-> \u001b[39m\u001b[32m1651\u001b[39m \u001b[43m_to_file\u001b[49m\u001b[43m(\u001b[49m\u001b[38;5;28;43mself\u001b[39;49m\u001b[43m,\u001b[49m\u001b[43m \u001b[49m\u001b[43mfilename\u001b[49m\u001b[43m,\u001b[49m\u001b[43m \u001b[49m\u001b[43mdriver\u001b[49m\u001b[43m,\u001b[49m\u001b[43m \u001b[49m\u001b[43mschema\u001b[49m\u001b[43m,\u001b[49m\u001b[43m \u001b[49m\u001b[43mindex\u001b[49m\u001b[43m,\u001b[49m\u001b[43m \u001b[49m\u001b[43m*\u001b[49m\u001b[43m*\u001b[49m\u001b[43mkwargs\u001b[49m\u001b[43m)\u001b[49m\n",
      "\u001b[36mFile \u001b[39m\u001b[32m~/Library/Python/3.13/lib/python/site-packages/geopandas/io/file.py:722\u001b[39m, in \u001b[36m_to_file\u001b[39m\u001b[34m(df, filename, driver, schema, index, mode, crs, engine, metadata, **kwargs)\u001b[39m\n\u001b[32m    715\u001b[39m     warnings.warn(\n\u001b[32m    716\u001b[39m         \u001b[33m\"\u001b[39m\u001b[33mColumn names longer than 10 characters will be truncated when saved to \u001b[39m\u001b[33m\"\u001b[39m\n\u001b[32m    717\u001b[39m         \u001b[33m\"\u001b[39m\u001b[33mESRI Shapefile.\u001b[39m\u001b[33m\"\u001b[39m,\n\u001b[32m    718\u001b[39m         stacklevel=\u001b[32m3\u001b[39m,\n\u001b[32m    719\u001b[39m     )\n\u001b[32m    721\u001b[39m \u001b[38;5;28;01mif\u001b[39;00m (df.dtypes == \u001b[33m\"\u001b[39m\u001b[33mgeometry\u001b[39m\u001b[33m\"\u001b[39m).sum() > \u001b[32m1\u001b[39m:\n\u001b[32m--> \u001b[39m\u001b[32m722\u001b[39m     \u001b[38;5;28;01mraise\u001b[39;00m \u001b[38;5;167;01mValueError\u001b[39;00m(\n\u001b[32m    723\u001b[39m         \u001b[33m\"\u001b[39m\u001b[33mGeoDataFrame contains multiple geometry columns but GeoDataFrame.to_file \u001b[39m\u001b[33m\"\u001b[39m\n\u001b[32m    724\u001b[39m         \u001b[33m\"\u001b[39m\u001b[33msupports only a single geometry column. Use a GeoDataFrame.to_parquet or \u001b[39m\u001b[33m\"\u001b[39m\n\u001b[32m    725\u001b[39m         \u001b[33m\"\u001b[39m\u001b[33mGeoDataFrame.to_feather, drop additional geometry columns or convert them \u001b[39m\u001b[33m\"\u001b[39m\n\u001b[32m    726\u001b[39m         \u001b[33m\"\u001b[39m\u001b[33mto a supported format like a well-known text (WKT) using \u001b[39m\u001b[33m\"\u001b[39m\n\u001b[32m    727\u001b[39m         \u001b[33m\"\u001b[39m\u001b[33m`GeoSeries.to_wkt()`.\u001b[39m\u001b[33m\"\u001b[39m,\n\u001b[32m    728\u001b[39m     )\n\u001b[32m    729\u001b[39m _check_metadata_supported(metadata, engine, driver)\n\u001b[32m    731\u001b[39m \u001b[38;5;28;01mif\u001b[39;00m mode \u001b[38;5;129;01mnot\u001b[39;00m \u001b[38;5;129;01min\u001b[39;00m (\u001b[33m\"\u001b[39m\u001b[33mw\u001b[39m\u001b[33m\"\u001b[39m, \u001b[33m\"\u001b[39m\u001b[33ma\u001b[39m\u001b[33m\"\u001b[39m):\n",
      "\u001b[31mValueError\u001b[39m: GeoDataFrame contains multiple geometry columns but GeoDataFrame.to_file supports only a single geometry column. Use a GeoDataFrame.to_parquet or GeoDataFrame.to_feather, drop additional geometry columns or convert them to a supported format like a well-known text (WKT) using `GeoSeries.to_wkt()`."
     ]
    }
   ],
   "source": [
    "ma.to_file('ma_munic_centroids.geojson', driver='GeoJSON')"
   ]
  },
  {
   "cell_type": "code",
   "execution_count": null,
   "id": "c960bbdf",
   "metadata": {},
   "outputs": [],
   "source": []
  }
 ],
 "metadata": {
  "kernelspec": {
   "display_name": "Python 3",
   "language": "python",
   "name": "python3"
  },
  "language_info": {
   "codemirror_mode": {
    "name": "ipython",
    "version": 3
   },
   "file_extension": ".py",
   "mimetype": "text/x-python",
   "name": "python",
   "nbconvert_exporter": "python",
   "pygments_lexer": "ipython3",
   "version": "3.13.5"
  }
 },
 "nbformat": 4,
 "nbformat_minor": 5
}
