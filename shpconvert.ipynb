{
 "cells": [
  {
   "cell_type": "code",
   "execution_count": null,
   "id": "686412f1",
   "metadata": {},
   "outputs": [],
   "source": [
    "%pip install geopandas"
   ]
  },
  {
   "cell_type": "code",
   "execution_count": 1,
   "id": "2d28eae4",
   "metadata": {},
   "outputs": [
    {
     "name": "stdout",
     "output_type": "stream",
     "text": [
      "Shapefile has been successfully converted to GeoJSON!\n"
     ]
    }
   ],
   "source": [
    "import geopandas as gpd\n",
    "\n",
    "def convert_shapefile_to_geojson(shapefile_path, output_geojson_path):\n",
    "    # Read the shapefile using geopandas\n",
    "    gdf = gpd.read_file(shapefile_path)\n",
    "    \n",
    "    # Convert the geodataframe to a GeoJSON file\n",
    "    gdf.to_file(output_geojson_path, driver='GeoJSON')\n",
    "\n",
    "# Define the file paths for the input shapefile and output GeoJSON file\n",
    "shapefile_path = 'data/masshighways/GISDATA_EOTMAJROADS_RTE_MAJORLine.shp'\n",
    "output_geojson_path = 'masshighways.geojson'\n",
    "\n",
    "# Call the conversion function\n",
    "convert_shapefile_to_geojson(shapefile_path, output_geojson_path)\n",
    "\n",
    "print('Shapefile has been successfully converted to GeoJSON!')"
   ]
  }
 ],
 "metadata": {
  "kernelspec": {
   "display_name": "Python 3",
   "language": "python",
   "name": "python3"
  },
  "language_info": {
   "codemirror_mode": {
    "name": "ipython",
    "version": 3
   },
   "file_extension": ".py",
   "mimetype": "text/x-python",
   "name": "python",
   "nbconvert_exporter": "python",
   "pygments_lexer": "ipython3",
   "version": "3.13.5"
  }
 },
 "nbformat": 4,
 "nbformat_minor": 5
}
